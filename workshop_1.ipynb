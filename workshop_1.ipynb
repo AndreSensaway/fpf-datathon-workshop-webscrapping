{
 "cells": [
  {
   "cell_type": "markdown",
   "metadata": {},
   "source": [
    "Beautiful Soup transforms a complex HTML document into a complex tree of Python objects."
   ]
  },
  {
   "cell_type": "code",
   "execution_count": 49,
   "metadata": {},
   "outputs": [
    {
     "name": "stdout",
     "output_type": "stream",
     "text": [
      "# 1 - original title tag:\n",
      "<title class=\"title class2\" type=\"boldest\">\n",
      " The Dormouse's story\n",
      "</title>\n",
      "\n",
      "# 2 - accessing tag attributes and contents:\n",
      "name:  title\n",
      "attributes:  {'class': ['title', 'class2'], 'type': 'boldest'}\n",
      "type attribute:  boldest\n",
      "title tag contents 1:  The Dormouse's story\n",
      "title tag contents 2:  The Dormouse's story\n",
      "\n",
      "# 3 - altered title tag:\n",
      "<title class=\"title class2\" test=\"hello_again\" type=\"hello\">\n",
      " The Dormouse's story\n",
      "</title>\n",
      "\n"
     ]
    }
   ],
   "source": [
    "\"\"\" bs4 overview (1/5) \"\"\"\n",
    "\n",
    "bs4_documentation = \"https://www.crummy.com/software/BeautifulSoup/bs4/doc/\"\n",
    "\n",
    "# pip install beautifulsoup4\n",
    "from bs4 import BeautifulSoup\n",
    "\n",
    "with open('index.html', 'r') as f:\n",
    "    # create bs4 class instance\n",
    "    doc = BeautifulSoup(f, \"html.parser\")\n",
    "\n",
    "#print(doc.prettify())\n",
    "\n",
    "# directly access html tags. Returns first tag in doc\n",
    "# each returned bs4 object has the same methods as its parent bs4 object\n",
    "title_tag = doc.title # accesses the first appearance of the \"title\" tag independently on how nested it is\n",
    "print(\"# 1 - original title tag:\")\n",
    "print(title_tag.prettify())\n",
    "\n",
    "print(\"# 2 - accessing tag attributes and contents:\")\n",
    "print(\"name: \", title_tag.name)\n",
    "print(\"attributes: \", title_tag.attrs)\n",
    "print(\"type attribute: \", title_tag['type'])\n",
    "print(\"title tag contents 1: \", title_tag.string.strip())\n",
    "print(\"title tag contents 2: \", title_tag.text.strip())\n",
    "\n",
    "\n",
    "# it is possible to change the html as well\n",
    "# changing a filtered tag element will change the original doc object\n",
    "title_tag['type'] = 'hello'\n",
    "title_tag['test'] = 'hello_again'\n",
    "print(\"\")\n",
    "print(\"# 3 - altered title tag:\")\n",
    "print(doc.title.prettify())\n"
   ]
  },
  {
   "cell_type": "code",
   "execution_count": 50,
   "metadata": {},
   "outputs": [
    {
     "name": "stdout",
     "output_type": "stream",
     "text": [
      "# contents:  [<b>The Dormouse's</b>, <i>story</i>]\n",
      "# children:  <list_iterator object at 0x00000210106D2580>\n",
      "# descendants:  <generator object Tag.descendants at 0x00000210106D1970>\n",
      "\n",
      "# iterate through children:\n",
      "    <b>The Dormouse's</b>\n",
      "    <i>story</i>\n",
      "\n",
      "# iterate through descendents:\n",
      "    <b>The Dormouse's</b>\n",
      "    The Dormouse's\n",
      "    <i>story</i>\n",
      "    story\n"
     ]
    }
   ],
   "source": [
    "\"\"\" bs4 overview (2/5) \"\"\"\n",
    "\n",
    "# additional bs4 object methods\n",
    "print(\"# contents: \", doc.body.p.contents)\n",
    "print(\"# children: \", doc.body.p.children)\n",
    "print(\"# descendants: \", doc.body.p.descendants)\n",
    "\n",
    "print(\"\")\n",
    "print(\"# iterate through children:\")\n",
    "for child in doc.body.p.children:\n",
    "    print(\"   \", child)\n",
    "\n",
    "print(\"\")\n",
    "print(\"# iterate through descendents:\")\n",
    "for child in doc.body.p.descendants:\n",
    "    print(\"   \", child)"
   ]
  },
  {
   "cell_type": "code",
   "execution_count": 51,
   "metadata": {},
   "outputs": [
    {
     "name": "stdout",
     "output_type": "stream",
     "text": [
      "find() result:\n",
      "<tr class=\"other\">row 1: 77</tr>\n",
      "\n",
      "find_all() result:\n",
      "[<tr class=\"other\">row 1: 77</tr>, <tr>row 2: 50</tr>, <tr>row 3: 6</tr>]\n"
     ]
    }
   ],
   "source": [
    "\"\"\" bs4 overview (3/5) \"\"\"\n",
    "# find() and find_all() - most important methods do learn!\n",
    "\n",
    "body_tag = doc.body\n",
    "\n",
    "print(\"find() result:\")\n",
    "res = body_tag.find(\"tr\") # difference between this line and body_tag.tr ??\n",
    "print(res)\n",
    "\n",
    "print(\"\")\n",
    "print(\"find_all() result:\")\n",
    "res = body_tag.find_all(\"tr\", limit=3) # difference between find(tag) and find_all(tag, limit=1) ??\n",
    "print(res)"
   ]
  },
  {
   "cell_type": "code",
   "execution_count": 63,
   "metadata": {},
   "outputs": [],
   "source": [
    "\"\"\" bs4 overview (4/5) \"\"\"\n",
    "# other arguments possibilities for find() and find_all() to further filter the search\n",
    "\n",
    "# through attributes\n",
    "a = body_tag.find_all(id=\"link2\")\n",
    "\n",
    "# search specific tag that has a given class\n",
    "b = body_tag.find_all(\"a\", class_=\"sister\")\n",
    "\n",
    "# search specific tag that has specific attributes\n",
    "c = body_tag.find_all(attrs={\"class\": \"other\"})\n",
    "\n",
    "# search specific tag that has specific attributes\n",
    "d = body_tag.find_all(\"a\", {\"class\": \"sister\", \"id\": \"link1\"})\n"
   ]
  },
  {
   "cell_type": "code",
   "execution_count": 65,
   "metadata": {},
   "outputs": [
    {
     "name": "stdout",
     "output_type": "stream",
     "text": [
      "0 :  <a class=\"sister other\" href=\"http://example.com/elsie\" id=\"link1\">\n",
      "                Elsie\n",
      "            </a>\n",
      "1 :  <tr class=\"other\">row 1: 77</tr>\n"
     ]
    }
   ],
   "source": [
    "for i, res in enumerate(c): print(i, ': ', res)"
   ]
  },
  {
   "cell_type": "code",
   "execution_count": 71,
   "metadata": {},
   "outputs": [
    {
     "name": "stdout",
     "output_type": "stream",
     "text": [
      "[<tr class=\"other\">row 1: 77</tr>, <tr>row 2: 50</tr>, <tr>row 3: 6</tr>]\n",
      "\n",
      "http://example.com/tillie\n"
     ]
    }
   ],
   "source": [
    "\"\"\" bs4 overview (5/5) \"\"\"\n",
    "# regular expressions documentation: https://docs.python.org/3/library/re.html\n",
    "import re\n",
    "\n",
    "res = body_tag.find_all(\"tr\", string=re.compile(\"^row\"))\n",
    "print(res)\n",
    "\n",
    "print(\"\")\n",
    "\n",
    "res = body_tag.find(\"a\", href=re.compile(\".*tillie\"))\n",
    "print(res['href'])\n",
    "\n"
   ]
  }
 ],
 "metadata": {
  "kernelspec": {
   "display_name": "Python 3.9.12 ('webScrapping')",
   "language": "python",
   "name": "python3"
  },
  "language_info": {
   "codemirror_mode": {
    "name": "ipython",
    "version": 3
   },
   "file_extension": ".py",
   "mimetype": "text/x-python",
   "name": "python",
   "nbconvert_exporter": "python",
   "pygments_lexer": "ipython3",
   "version": "3.9.13"
  },
  "orig_nbformat": 4,
  "vscode": {
   "interpreter": {
    "hash": "75bcc6afa7d4abe6c1955d60735b95ddab8fcdf6dd6d130d424c20d872045a8e"
   }
  }
 },
 "nbformat": 4,
 "nbformat_minor": 2
}
