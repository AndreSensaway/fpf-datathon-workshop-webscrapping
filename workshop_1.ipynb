{
 "cells": [
  {
   "cell_type": "markdown",
   "metadata": {},
   "source": [
    "Beautiful Soup transforms a complex HTML document into a complex tree of Python objects."
   ]
  },
  {
   "cell_type": "code",
   "execution_count": 18,
   "metadata": {},
   "outputs": [
    {
     "name": "stdout",
     "output_type": "stream",
     "text": [
      "# title tag:\n",
      "<title class=\"title class2\" type=\"boldest\">\n",
      " The Dormouse's story\n",
      "</title>\n",
      "\n",
      "# accessing tag attributes and contents:\n",
      "name:  title\n",
      "attributes:  {'class': ['title', 'class2'], 'type': 'boldest'}\n",
      "type attribute:  boldest\n",
      "title tag contents 1:  The Dormouse's story\n",
      "Nested tag:  Dormouse's\n"
     ]
    }
   ],
   "source": [
    "\"\"\" bs4 overview (1/5) \"\"\"\n",
    "\n",
    "bs4_documentation = \"https://www.crummy.com/software/BeautifulSoup/bs4/doc/\"\n",
    "\n",
    "# pip install beautifulsoup4\n",
    "from bs4 import BeautifulSoup\n",
    "\n",
    "with open('index.html', 'r') as f:\n",
    "    # create bs4 class instance\n",
    "    doc = BeautifulSoup(f, \"html.parser\")\n",
    "\n",
    "\n",
    "print(\"# title tag:\")\n",
    "print(doc.title.prettify()) # directly access html tags. Returns first tag in doc\n",
    "\n",
    "print(\"# accessing tag attributes and contents:\")\n",
    "print(\"name: \", doc.title.name)\n",
    "print(\"attributes: \", doc.title.attrs)\n",
    "print(\"type attribute: \", doc.title['type'])\n",
    "print(\"title tag contents 1: \", doc.title.string.strip())\n",
    "\n",
    "print(\"Nested tag: \", doc.body.p.b.u.string)"
   ]
  },
  {
   "cell_type": "code",
   "execution_count": 19,
   "metadata": {},
   "outputs": [
    {
     "name": "stdout",
     "output_type": "stream",
     "text": [
      "# 1 - original title tag:\n",
      "<title class=\"title class2\" type=\"boldest\">\n",
      " The Dormouse's story\n",
      "</title>\n",
      "\n",
      "# 2 - altered title tag:\n",
      "<title class=\"title class2\" test=\"hello_again\" type=\"hello\">\n",
      " The Dormouse's story\n",
      "</title>\n",
      "\n"
     ]
    }
   ],
   "source": [
    "\"\"\" bs4 overview (2/6) \"\"\"\n",
    "\n",
    "title_tag = doc.title\n",
    "\n",
    "# it is possible to change the html as well\n",
    "# changing a filtered tag element will change the original doc object\n",
    "\n",
    "print(\"# 1 - original title tag:\")\n",
    "print(title_tag.prettify())\n",
    "title_tag['type'] = 'hello'\n",
    "title_tag['test'] = 'hello_again'\n",
    "\n",
    "\n",
    "print(\"# 2 - altered title tag:\")\n",
    "print(doc.title.prettify())"
   ]
  },
  {
   "cell_type": "code",
   "execution_count": 12,
   "metadata": {},
   "outputs": [
    {
     "name": "stdout",
     "output_type": "stream",
     "text": [
      "# contents:  [<b>The <u>Dormouse's</u></b>, <i>story</i>, ' of fear']\n",
      "# children:  <list_iterator object at 0x0000018A1C8CAFD0>\n",
      "# descendants:  <generator object Tag.descendants at 0x0000018A1C91F900>\n",
      "\n",
      "# iterate through children:\n",
      "    <b>The <u>Dormouse's</u></b>\n",
      "    <i>story</i>\n",
      "     of fear\n",
      "\n",
      "# iterate through descendents:\n",
      "    <b>The <u>Dormouse's</u></b>\n",
      "    The \n",
      "    <u>Dormouse's</u>\n",
      "    Dormouse's\n",
      "    <i>story</i>\n",
      "    story\n",
      "     of fear\n"
     ]
    }
   ],
   "source": [
    "\"\"\" bs4 overview (3/6) \"\"\"\n",
    "\n",
    "p_tag = doc.body.p\n",
    "\n",
    "# additional bs4 object methods\n",
    "print(\"# contents: \", p_tag.contents)\n",
    "print(\"# children: \", p_tag.children)\n",
    "print(\"# descendants: \", p_tag.descendants)\n",
    "\n",
    "print(\"\")\n",
    "print(\"# iterate through children:\")\n",
    "for child in p_tag.children:\n",
    "    print(\"   \", child)\n",
    "\n",
    "print(\"\")\n",
    "print(\"# iterate through descendents:\")\n",
    "for child in p_tag.descendants:\n",
    "    print(\"   \", child)"
   ]
  },
  {
   "cell_type": "code",
   "execution_count": 13,
   "metadata": {},
   "outputs": [
    {
     "name": "stdout",
     "output_type": "stream",
     "text": [
      "find() result:\n",
      "<tr class=\"other\">row 1: 77</tr>\n",
      "\n",
      "find_all() result:\n",
      "[<tr class=\"other\">row 1: 77</tr>, <tr>row 2: 50</tr>, <tr>row 3: 6</tr>]\n"
     ]
    }
   ],
   "source": [
    "\"\"\" bs4 overview (4/6) \"\"\"\n",
    "# find() and find_all() - most important methods to learn!\n",
    "\n",
    "body_tag = doc.body\n",
    "\n",
    "print(\"find() result:\")\n",
    "res = body_tag.find(\"tr\")\n",
    "print(res)\n",
    "\n",
    "print(\"\")\n",
    "print(\"find_all() result:\")\n",
    "res = body_tag.find_all(\"tr\", limit=3) # difference between find(tag) and find_all(tag, limit=1) ??\n",
    "print(res)"
   ]
  },
  {
   "cell_type": "code",
   "execution_count": 14,
   "metadata": {},
   "outputs": [],
   "source": [
    "\"\"\" bs4 overview (5/6) \"\"\"\n",
    "# other arguments possibilities for find() and find_all() to further filter the search\n",
    "\n",
    "# search through attributes\n",
    "a = body_tag.find_all(id=\"link2\")\n",
    "\n",
    "# search tags with specific attributes\n",
    "b = body_tag.find_all(attrs={\"class\": \"other\"})\n",
    "\n",
    "# search specific tag that has a specific attribute\n",
    "c = body_tag.find_all(\"a\", class_=\"sister\")\n",
    "\n",
    "# search specific tag that has specific attributes\n",
    "d = body_tag.find_all(\"a\", {\"class\": \"sister\", \"id\": \"link1\"})\n"
   ]
  },
  {
   "cell_type": "code",
   "execution_count": 15,
   "metadata": {},
   "outputs": [
    {
     "name": "stdout",
     "output_type": "stream",
     "text": [
      "0 :  <a class=\"sister\" href=\"http://example.com/lacie\" id=\"link2\">\n",
      "                Lacie\n",
      "            </a>\n"
     ]
    }
   ],
   "source": [
    "for i, res in enumerate(a): print(i, ': ', res)"
   ]
  },
  {
   "cell_type": "code",
   "execution_count": 16,
   "metadata": {},
   "outputs": [
    {
     "name": "stdout",
     "output_type": "stream",
     "text": [
      "['row 1: 77', 'row 2: 50', 'row 3: 6']\n",
      "\n",
      "http://example.com/tillie\n"
     ]
    }
   ],
   "source": [
    "\"\"\" bs4 overview (6/6) \"\"\"\n",
    "# regular expressions documentation: https://docs.python.org/3/library/re.html\n",
    "import re\n",
    "\n",
    "pattern1 = re.compile(\"^row\") # string that starts with \"row\"\n",
    "res = body_tag.find_all(string=pattern1)\n",
    "print(res)\n",
    "\n",
    "print(\"\")\n",
    "\n",
    "pattern2 = re.compile(\"tillie$\") # string that ends with \"tillie\"\n",
    "res = body_tag.find_all(href=pattern2)\n",
    "print(res[0]['href'])\n",
    "\n"
   ]
  }
 ],
 "metadata": {
  "kernelspec": {
   "display_name": "Python 3.9.12 ('webScrapping')",
   "language": "python",
   "name": "python3"
  },
  "language_info": {
   "codemirror_mode": {
    "name": "ipython",
    "version": 3
   },
   "file_extension": ".py",
   "mimetype": "text/x-python",
   "name": "python",
   "nbconvert_exporter": "python",
   "pygments_lexer": "ipython3",
   "version": "3.9.13"
  },
  "orig_nbformat": 4,
  "vscode": {
   "interpreter": {
    "hash": "75bcc6afa7d4abe6c1955d60735b95ddab8fcdf6dd6d130d424c20d872045a8e"
   }
  }
 },
 "nbformat": 4,
 "nbformat_minor": 2
}
