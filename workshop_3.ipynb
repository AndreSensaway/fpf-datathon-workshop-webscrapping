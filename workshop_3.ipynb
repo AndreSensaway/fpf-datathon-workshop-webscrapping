{
 "cells": [
  {
   "cell_type": "code",
   "execution_count": 48,
   "metadata": {},
   "outputs": [],
   "source": [
    "\"\"\" Página do Clube (1/4) \"\"\"\n",
    "\n",
    "from bs4 import BeautifulSoup\n",
    "import requests\n",
    "import re\n",
    "\n",
    "url_benfica = \"https://www.uefa.com/uefachampionsleague/clubs/50147--benfica/\"\n",
    "result = requests.get(url_benfica)\n",
    "\n",
    "doc_benfica = BeautifulSoup(result.text, \"html.parser\")\n",
    "#print(doc_benfica.body.prettify())"
   ]
  },
  {
   "cell_type": "code",
   "execution_count": 51,
   "metadata": {},
   "outputs": [
    {
     "name": "stdout",
     "output_type": "stream",
     "text": [
      "# Number of stat elements:  11\n",
      "\n",
      "# First stat element:\n",
      "<div class=\"stats-module__single-stat stats-module__single-stat--numberwithicon stats-module__single-stat--\">\n",
      " <pk-num-stat-item class=\"\" variant=\"secondary\">\n",
      "  <pk-icon color=\"support-04\" name=\"football-card-single-card\" size=\"24\" slot=\"left-img\">\n",
      "  </pk-icon>\n",
      "  <div slot=\"stat-value\">\n",
      "   0\n",
      "  </div>\n",
      "  <div slot=\"stat-label\">\n",
      "   Red cards\n",
      "  </div>\n",
      " </pk-num-stat-item>\n",
      "</div>\n",
      "\n"
     ]
    }
   ],
   "source": [
    "\"\"\" Página do Clube (2/4) \"\"\"\n",
    "\n",
    "# find the div that contains the required stats\n",
    "key_stats_tag = doc_benfica.find('div', class_=\"stats-module\")\n",
    "\n",
    "# list all divs that contain individual stats\n",
    "stat_tags = key_stats_tag.find_all('div', class_=\"stats-module__single-stat--number\")\n",
    "\n",
    "# list all divs that contain individual stats with yellow and red cards\n",
    "stat_tags = key_stats_tag.find_all('div', class_=re.compile(\"stats-module__single-stat--number.*\"))\n",
    "\n",
    "print(\"# Number of stat elements: \", len(stat_tags))\n",
    "print(\"\")\n",
    "\n",
    "print(\"# First stat element:\")\n",
    "print(stat_tags[-1].prettify())"
   ]
  },
  {
   "cell_type": "code",
   "execution_count": 57,
   "metadata": {},
   "outputs": [
    {
     "name": "stdout",
     "output_type": "stream",
     "text": [
      "Method 1:\n",
      "# stat name:  Goals\n",
      "# stat value:  2\n",
      "\n",
      "Method 2:\n",
      "# stat name:  Goals\n",
      "# stat value:  2\n",
      "\n",
      "# available stats:\n",
      "['Goals', 'Goals conceded', 'Possession (%)', 'Passing accuracy (%)', 'Balls recovered', 'Tackles won', 'Clean sheets', 'Saves', 'Distance covered (km)', 'Yellow cards', 'Red cards']\n"
     ]
    }
   ],
   "source": [
    "\"\"\" Página do Clube (3/4) \"\"\"\n",
    "\n",
    "# Extract required data point\n",
    "i = 0\n",
    "\n",
    "# method 1\n",
    "stat_tag = stat_tags[i].find_all('div')\n",
    "stat_name = stat_tag[1].string\n",
    "stat_value = stat_tag[0].string\n",
    "print(\"Method 1:\")\n",
    "print(\"# stat name: \", stat_name)\n",
    "print(\"# stat value: \", stat_value)\n",
    "print(\"\")\n",
    "\n",
    "# method 2\n",
    "stat_name = stat_tags[i].find(slot=\"stat-label\").string\n",
    "stat_value = stat_tags[i].find(slot=\"stat-value\").string\n",
    "print(\"Method 2:\")\n",
    "print(\"# stat name: \", stat_name)\n",
    "print(\"# stat value: \", stat_value)\n",
    "\n",
    "# print available stats\n",
    "print(\"\")\n",
    "print(\"# available stats:\")\n",
    "print([stat.find(slot=\"stat-label\").string for stat in stat_tags])"
   ]
  },
  {
   "cell_type": "code",
   "execution_count": 62,
   "metadata": {},
   "outputs": [
    {
     "name": "stdout",
     "output_type": "stream",
     "text": [
      "Goals:  5\n",
      "Goals conceded:  2\n",
      "Possession (%):  57\n",
      "Passing accuracy (%):  87\n",
      "Balls recovered:  70\n",
      "Tackles won:  16\n",
      "Clean sheets:  1\n",
      "Saves:  9\n",
      "Distance covered (km):  230.86\n",
      "Yellow cards:  2\n",
      "Red cards:  0\n"
     ]
    }
   ],
   "source": [
    "\"\"\" Página do Clube (4/4) \"\"\"\n",
    "\n",
    "# loop through all stats and store the structered data\n",
    "stats = {}\n",
    "\n",
    "for stat_tag in stat_tags:\n",
    "    divs = stat_tag.find_all('div')\n",
    "    name = divs[1].string\n",
    "    value = divs[0].string\n",
    "\n",
    "    # Think ahead and convert data into correct data type\n",
    "    if \"%\" in name: value = float(value[:-1])\n",
    "    elif name == \"Distance covered (km)\": value = float(value)\n",
    "    else: value = int(value)\n",
    "\n",
    "    stats[name] = value\n",
    "\n",
    "for name, value in stats.items():print(f'{name}:  {value}')"
   ]
  },
  {
   "cell_type": "code",
   "execution_count": 63,
   "metadata": {},
   "outputs": [
    {
     "name": "stdout",
     "output_type": "stream",
     "text": [
      "<div class=\"team team-is-club\">\n",
      " <a class=\"team-wrap\" href=\"/uefachampionsleague/clubs/50143--ajax/\" title=\"Ajax\">\n",
      "  <pk-identifier class=\"team-wrap\" type=\"vertical\">\n",
      "   <span slot=\"prefix\">\n",
      "    <pk-badge alt=\"Ajax\" badge-title=\"Ajax\" fallback-image=\"club-generic-badge\" src=\"https://img.uefa.com/imgml/TP/teams/logos/70x70/50143.png\">\n",
      "    </pk-badge>\n",
      "   </span>\n",
      "   <span slot=\"primary\">\n",
      "    Ajax\n",
      "   </span>\n",
      "   <span class=\"team-name__country-code\" slot=\"secondary\">\n",
      "    (NED)\n",
      "   </span>\n",
      "  </pk-identifier>\n",
      " </a>\n",
      "</div>\n",
      "\n"
     ]
    }
   ],
   "source": [
    "\"\"\" Página com lista de clubes (1/4) \"\"\"\n",
    "\n",
    "url_clubs = \"https://www.uefa.com/uefachampionsleague/clubs/\"\n",
    "result = requests.get(url_clubs)\n",
    "\n",
    "doc_clubs = BeautifulSoup(result.text, \"html.parser\")\n",
    "\n",
    "group_stage_tag = doc_clubs.find('div', class_=\"teams-overview_teams-wrapper\")\n",
    "teams_tag = group_stage_tag.find_all('div', class_=\"team team-is-club\", limit=5)\n",
    "\n",
    "print(teams_tag[0].prettify())\n",
    "\n"
   ]
  },
  {
   "cell_type": "code",
   "execution_count": 64,
   "metadata": {},
   "outputs": [
    {
     "name": "stdout",
     "output_type": "stream",
     "text": [
      "Ajax\n",
      "/uefachampionsleague/clubs/50143--ajax/\n",
      "\n",
      "# Full url:\n",
      "https://www.uefa.com/uefachampionsleague/clubs/50143--ajax/\n"
     ]
    }
   ],
   "source": [
    "\"\"\" Página com lista de clubes (2/4) \"\"\"\n",
    "\n",
    "print(teams_tag[0].a['title'])\n",
    "print(teams_tag[0].a['href'])\n",
    "print(\"\")\n",
    "\n",
    "print(\"# Full url:\")\n",
    "print(\"https://www.uefa.com\" + teams_tag[0].a['href'])\n"
   ]
  },
  {
   "cell_type": "code",
   "execution_count": 65,
   "metadata": {},
   "outputs": [
    {
     "name": "stdout",
     "output_type": "stream",
     "text": [
      "Found 5 teams\n",
      "Ajax: https://www.uefa.com/uefachampionsleague/clubs/50143--ajax/\n",
      "Atlético: https://www.uefa.com/uefachampionsleague/clubs/50124--atletico/\n",
      "Barcelona: https://www.uefa.com/uefachampionsleague/clubs/50080--barcelona/\n",
      "Bayern: https://www.uefa.com/uefachampionsleague/clubs/50037--bayern/\n",
      "Benfica: https://www.uefa.com/uefachampionsleague/clubs/50147--benfica/\n"
     ]
    }
   ],
   "source": [
    "\"\"\" Página com lista de clubes (3/4) \"\"\"\n",
    "\n",
    "# estrutura de dados\n",
    "# [{ \n",
    "#   \"name\": \"team1\"\n",
    "#   \"url\": \"www.exemplo.com\",\n",
    "#   \"stat1\": 3,    \n",
    "#   \"stat2\": 3,    \n",
    "#   (...)    \n",
    "#  },\n",
    "#  { (...) }\n",
    "# ]\n",
    "\n",
    "teams = []\n",
    "\n",
    "for team_tag in teams_tag:\n",
    "    team_name = team_tag.a['title']\n",
    "    team_url = team_tag.a['href']\n",
    "    team_url = \"https://www.uefa.com\" + team_url\n",
    "    \n",
    "    teams.append({\"name\": team_name, \"url\": team_url})\n",
    "\n",
    "print(f'Found {len(teams)} teams')\n",
    "for team in teams: print(f\"{team['name']}: {team['url']}\")\n"
   ]
  },
  {
   "cell_type": "code",
   "execution_count": 75,
   "metadata": {},
   "outputs": [
    {
     "name": "stdout",
     "output_type": "stream",
     "text": [
      "Fetching Ajax data...\n",
      "Fetching Atlético data...\n",
      "Fetching Barcelona data...\n",
      "Fetching Bayern data...\n",
      "Fetching Benfica data...\n",
      "___________________________________\n",
      "Fetched data from 5 teams\n",
      "\n",
      "### All fetched data:\n",
      "{'name': 'Ajax', 'url': 'https://www.uefa.com/uefachampionsleague/clubs/50143--ajax/', 'Goals': 5, 'Goals conceded': 2, 'Possession (%)': 57.5, 'Passing accuracy (%)': 87.0, 'Balls recovered': 70, 'Tackles won': 16, 'Clean sheets': 1, 'Saves': 9, 'Distance covered (km)': 230.86, 'Yellow cards': 2, 'Red cards': 0}\n",
      "\n",
      "{'name': 'Atlético', 'url': 'https://www.uefa.com/uefachampionsleague/clubs/50124--atletico/', 'Goals': 2, 'Goals conceded': 3, 'Possession (%)': 52.0, 'Passing accuracy (%)': 85.0, 'Balls recovered': 65, 'Tackles won': 4, 'Clean sheets': 0, 'Saves': 5, 'Distance covered (km)': 236.8, 'Yellow cards': 2, 'Red cards': 0}\n",
      "\n",
      "{'name': 'Barcelona', 'url': 'https://www.uefa.com/uefachampionsleague/clubs/50080--barcelona/', 'Goals': 5, 'Goals conceded': 3, 'Possession (%)': 63.0, 'Passing accuracy (%)': 90.0, 'Balls recovered': 81, 'Tackles won': 8, 'Clean sheets': 0, 'Saves': 2, 'Distance covered (km)': 235.41, 'Yellow cards': 1, 'Red cards': 0}\n",
      "\n",
      "{'name': 'Bayern', 'url': 'https://www.uefa.com/uefachampionsleague/clubs/50037--bayern/', 'Goals': 4, 'Goals conceded': 0, 'Possession (%)': 49.0, 'Passing accuracy (%)': 86.5, 'Balls recovered': 87, 'Tackles won': 13, 'Clean sheets': 2, 'Saves': 6, 'Distance covered (km)': 237.17, 'Yellow cards': 3, 'Red cards': 0}\n",
      "\n",
      "{'name': 'Benfica', 'url': 'https://www.uefa.com/uefachampionsleague/clubs/50147--benfica/', 'Goals': 2, 'Goals conceded': 0, 'Possession (%)': 54.0, 'Passing accuracy (%)': 85.0, 'Balls recovered': 49, 'Tackles won': 1, 'Clean sheets': 1, 'Saves': 2, 'Distance covered (km)': 117.98, 'Yellow cards': 1, 'Red cards': 0}\n",
      "\n"
     ]
    }
   ],
   "source": [
    "\"\"\" Página com lista de clubes (4/4) \"\"\"\n",
    "\n",
    "\n",
    "for team in teams:\n",
    "    print(f\"Fetching {team['name']} data...\")\n",
    "    result = requests.get(team['url'])\n",
    "\n",
    "    doc_club = BeautifulSoup(result.text, \"html.parser\") # request html and create bs4 instance\n",
    "\n",
    "    key_stats_tag = doc_club.find('div', class_=\"stats-module\")\n",
    "    stat_tags = key_stats_tag.find_all('div', class_=re.compile(\"stats-module__single-stat--number.*\"))\n",
    "\n",
    "    for stat_tag in stat_tags:\n",
    "        stat_name = stat_tag.find_all('div')[1].string\n",
    "        stat_value = stat_tag.find_all('div')[0].string\n",
    "\n",
    "        if \"%\" in stat_name: stat_value = float(stat_value[:-1])\n",
    "        elif stat_name == \"Distance covered (km)\": stat_value = float(stat_value)\n",
    "        else: stat_value = int(stat_value)\n",
    "\n",
    "        team[stat_name] = stat_value\n",
    "\n",
    "print(f\"___________________________________\")   \n",
    "print(f\"Fetched data from {len(teams)} teams\")\n",
    "print(\"\")\n",
    "print(\"### All fetched data:\")\n",
    "for team in teams:\n",
    "    print(team)\n",
    "    print(\"\")\n"
   ]
  },
  {
   "cell_type": "code",
   "execution_count": 64,
   "metadata": {},
   "outputs": [
    {
     "data": {
      "text/html": [
       "<div>\n",
       "<style scoped>\n",
       "    .dataframe tbody tr th:only-of-type {\n",
       "        vertical-align: middle;\n",
       "    }\n",
       "\n",
       "    .dataframe tbody tr th {\n",
       "        vertical-align: top;\n",
       "    }\n",
       "\n",
       "    .dataframe thead th {\n",
       "        text-align: right;\n",
       "    }\n",
       "</style>\n",
       "<table border=\"1\" class=\"dataframe\">\n",
       "  <thead>\n",
       "    <tr style=\"text-align: right;\">\n",
       "      <th></th>\n",
       "      <th>name</th>\n",
       "      <th>url</th>\n",
       "      <th>Goals</th>\n",
       "      <th>Goals conceded</th>\n",
       "      <th>Possession (%)</th>\n",
       "      <th>Passing accuracy (%)</th>\n",
       "      <th>Balls recovered</th>\n",
       "      <th>Tackles won</th>\n",
       "      <th>Clean sheets</th>\n",
       "      <th>Saves</th>\n",
       "      <th>Distance covered (km)</th>\n",
       "    </tr>\n",
       "  </thead>\n",
       "  <tbody>\n",
       "    <tr>\n",
       "      <th>0</th>\n",
       "      <td>Ajax</td>\n",
       "      <td>https://www.uefa.com//uefachampionsleague/club...</td>\n",
       "      <td>4</td>\n",
       "      <td>0</td>\n",
       "      <td>71</td>\n",
       "      <td>93</td>\n",
       "      <td>34</td>\n",
       "      <td>4</td>\n",
       "      <td>1</td>\n",
       "      <td>1</td>\n",
       "      <td>113.62</td>\n",
       "    </tr>\n",
       "    <tr>\n",
       "      <th>1</th>\n",
       "      <td>Atlético</td>\n",
       "      <td>https://www.uefa.com//uefachampionsleague/club...</td>\n",
       "      <td>2</td>\n",
       "      <td>1</td>\n",
       "      <td>51</td>\n",
       "      <td>82</td>\n",
       "      <td>31</td>\n",
       "      <td>1</td>\n",
       "      <td>0</td>\n",
       "      <td>2</td>\n",
       "      <td>119.98</td>\n",
       "    </tr>\n",
       "    <tr>\n",
       "      <th>2</th>\n",
       "      <td>Barcelona</td>\n",
       "      <td>https://www.uefa.com//uefachampionsleague/club...</td>\n",
       "      <td>5</td>\n",
       "      <td>1</td>\n",
       "      <td>73</td>\n",
       "      <td>92</td>\n",
       "      <td>33</td>\n",
       "      <td>4</td>\n",
       "      <td>0</td>\n",
       "      <td>0</td>\n",
       "      <td>116.82</td>\n",
       "    </tr>\n",
       "    <tr>\n",
       "      <th>3</th>\n",
       "      <td>Bayern</td>\n",
       "      <td>https://www.uefa.com//uefachampionsleague/club...</td>\n",
       "      <td>2</td>\n",
       "      <td>0</td>\n",
       "      <td>51</td>\n",
       "      <td>90</td>\n",
       "      <td>38</td>\n",
       "      <td>6</td>\n",
       "      <td>1</td>\n",
       "      <td>2</td>\n",
       "      <td>117.26</td>\n",
       "    </tr>\n",
       "    <tr>\n",
       "      <th>4</th>\n",
       "      <td>Benfica</td>\n",
       "      <td>https://www.uefa.com//uefachampionsleague/club...</td>\n",
       "      <td>2</td>\n",
       "      <td>0</td>\n",
       "      <td>54</td>\n",
       "      <td>85</td>\n",
       "      <td>49</td>\n",
       "      <td>1</td>\n",
       "      <td>1</td>\n",
       "      <td>2</td>\n",
       "      <td>117.98</td>\n",
       "    </tr>\n",
       "  </tbody>\n",
       "</table>\n",
       "</div>"
      ],
      "text/plain": [
       "        name                                                url  Goals  \\\n",
       "0       Ajax  https://www.uefa.com//uefachampionsleague/club...      4   \n",
       "1   Atlético  https://www.uefa.com//uefachampionsleague/club...      2   \n",
       "2  Barcelona  https://www.uefa.com//uefachampionsleague/club...      5   \n",
       "3     Bayern  https://www.uefa.com//uefachampionsleague/club...      2   \n",
       "4    Benfica  https://www.uefa.com//uefachampionsleague/club...      2   \n",
       "\n",
       "   Goals conceded  Possession (%)  Passing accuracy (%)  Balls recovered  \\\n",
       "0               0              71                    93               34   \n",
       "1               1              51                    82               31   \n",
       "2               1              73                    92               33   \n",
       "3               0              51                    90               38   \n",
       "4               0              54                    85               49   \n",
       "\n",
       "   Tackles won  Clean sheets  Saves  Distance covered (km)  \n",
       "0            4             1      1                 113.62  \n",
       "1            1             0      2                 119.98  \n",
       "2            4             0      0                 116.82  \n",
       "3            6             1      2                 117.26  \n",
       "4            1             1      2                 117.98  "
      ]
     },
     "execution_count": 64,
     "metadata": {},
     "output_type": "execute_result"
    }
   ],
   "source": [
    "\"\"\" Gravar os dados para processamento \"\"\"\n",
    "\n",
    "import pandas as pd\n",
    "\n",
    "data = pd.DataFrame(teams)\n",
    "data.head()\n"
   ]
  }
 ],
 "metadata": {
  "kernelspec": {
   "display_name": "Python 3.9.12 ('webScrapping')",
   "language": "python",
   "name": "python3"
  },
  "language_info": {
   "codemirror_mode": {
    "name": "ipython",
    "version": 3
   },
   "file_extension": ".py",
   "mimetype": "text/x-python",
   "name": "python",
   "nbconvert_exporter": "python",
   "pygments_lexer": "ipython3",
   "version": "3.9.13"
  },
  "orig_nbformat": 4,
  "vscode": {
   "interpreter": {
    "hash": "75bcc6afa7d4abe6c1955d60735b95ddab8fcdf6dd6d130d424c20d872045a8e"
   }
  }
 },
 "nbformat": 4,
 "nbformat_minor": 2
}
